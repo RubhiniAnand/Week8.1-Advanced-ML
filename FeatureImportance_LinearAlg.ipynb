{
 "cells": [
  {
   "cell_type": "markdown",
   "id": "0511a8e4-a440-4832-849d-ef504e11488a",
   "metadata": {},
   "source": [
    "#**Feature (variable) importance indicates how much each feature contributes to the model prediction. Basically, it determines the degree of usefulness of a specific variable for a current model and prediction.**"
   ]
  },
  {
   "cell_type": "markdown",
   "id": "43027698-70fa-4ae7-9de7-293006142973",
   "metadata": {},
   "source": [
    "#**By analyzing variable importance scores, we would be able to find out irrelevant features and exclude them. Reducing the number of not meaningful variables in the model may speed up the model or even improve its performance.**"
   ]
  },
  {
   "cell_type": "code",
   "execution_count": 6,
   "id": "11eabfd2-b606-42c1-99d8-0f8a7f83c796",
   "metadata": {},
   "outputs": [],
   "source": [
    "#**In linear regression model,coefficients will show the importance of each input variable.** "
   ]
  },
  {
   "cell_type": "code",
   "execution_count": 1,
   "id": "b61813a1-6149-455b-9b1e-8f8bd5b84c8a",
   "metadata": {},
   "outputs": [],
   "source": [
    "#import the necessary libraries\n",
    "import pandas as pd\n",
    "import numpy as np\n",
    "from sklearn.linear_model import LinearRegression\n",
    "from sklearn.model_selection import train_test_split  # Import train_test_split\n",
    "from sklearn.preprocessing import StandardScaler\n",
    "import matplotlib.pyplot as plt\n",
    "import seaborn as sns"
   ]
  },
  {
   "cell_type": "code",
   "execution_count": 2,
   "id": "14f41dc9-7fa7-4ad1-9413-07e952d68207",
   "metadata": {},
   "outputs": [],
   "source": [
    "#load the dataset\n",
    "dataset1=pd.read_csv(\"prep.csv\",index_col=None)\n",
    "df2=dataset1\n",
    "df2 = pd.get_dummies(df2, drop_first=True)\n",
    "indep_X=df2.drop('classification_yes', axis=1)\n",
    "dep_Y=df2['classification_yes']\n",
    "#split and scale the data\n",
    "def split_scalar(indep_X,dep_Y):\n",
    "        X_train, X_test, y_train, y_test = train_test_split(indep_X, dep_Y, test_size = 0.25, random_state = 0)\n",
    "        sc = StandardScaler()\n",
    "        X_train = sc.fit_transform(X_train)\n",
    "        X_test = sc.transform(X_test)    \n",
    "        return X_train, X_test, y_train, y_test\n",
    "#get the r2_score value    \n",
    "def r2_prediction(regressor,X_test,y_test):\n",
    "         y_pred = regressor.predict(X_test)\n",
    "         from sklearn.metrics import r2_score\n",
    "         r2=r2_score(y_test,y_pred)\n",
    "         return r2\n",
    "#Define the model    \n",
    "def Linear(X_train,y_train,X_test):       \n",
    "        # Fitting K-NN to the Training set\n",
    "        from sklearn.linear_model import LinearRegression\n",
    "        regressor = LinearRegression()\n",
    "        regressor.fit(X_train, y_train)\n",
    "        r2=r2_prediction(regressor,X_test,y_test)\n",
    "        return  r2 ,regressor\n"
   ]
  },
  {
   "cell_type": "code",
   "execution_count": 4,
   "id": "3477900e-5cde-4531-9407-cea5a4abe049",
   "metadata": {},
   "outputs": [
    {
     "name": "stdout",
     "output_type": "stream",
     "text": [
      "Feature :hrmo coefficient :-0.16334007730046993\n",
      "Feature :sg_d coefficient :0.12451642018512316\n",
      "Feature :sg_c coefficient :0.11904428113573988\n",
      "Feature :sg_b coefficient :-0.06782123278836372\n",
      "Feature :sod coefficient :-0.0652244074606024\n",
      "Feature :dm_yes coefficient :0.059913501735413176\n",
      "Feature :htn_yes coefficient :0.055990059120842574\n",
      "Feature :pot coefficient :0.05174017190616015\n",
      "Feature :bu coefficient :-0.04299147597462666\n",
      "Feature :sg_e coefficient :0.032313804753011204\n",
      "Feature :wc coefficient :0.03061710468428465\n",
      "Feature :rbc_normal coefficient :-0.030569854523463925\n",
      "Feature :sc coefficient :-0.030315885225588125\n",
      "Feature :bgr coefficient :0.029991515766484893\n",
      "Feature :rc coefficient :-0.02549677999972782\n",
      "Feature :bp coefficient :0.025270379875837856\n",
      "Feature :pcv coefficient :-0.01723276310170039\n",
      "Feature :su coefficient :-0.016524261110419353\n",
      "Feature :ba_present coefficient :-0.01483708189796114\n",
      "Feature :ane_yes coefficient :-0.014578679199047666\n",
      "Feature :pe_yes coefficient :0.011367333395947187\n",
      "Feature :appet_yes coefficient :-0.009267036689307472\n",
      "Feature :cad_yes coefficient :-0.0058575240799314185\n",
      "Feature :age coefficient :0.004518265148958069\n",
      "Feature :pc_normal coefficient :0.004189184621606258\n",
      "Feature :al coefficient :-0.003939307193875516\n",
      "Feature :pcc_present coefficient :0.001239523300602327\n"
     ]
    }
   ],
   "source": [
    "X_train, X_test, y_train, y_test = split_scalar(indep_X, dep_Y)\n",
    "r2, regressor = Linear(X_train, y_train, X_test)  # accessing regressor outside the Linear function\n",
    "#importance = regressor.coef_\n",
    "#importance = np.sort(importance)\n",
    "feature_names = indep_X.columns.tolist()\n",
    "coefficients_with_names = list(zip(feature_names, regressor.coef_))\n",
    "coefficients_with_names_sorted = sorted(coefficients_with_names, key=lambda x: abs(x[1]), reverse=True)\n",
    "for feature, coefficient in coefficients_with_names_sorted:\n",
    "    print(\"Feature :{} coefficient :{}\".format(feature,coefficient))"
   ]
  },
  {
   "cell_type": "code",
   "execution_count": null,
   "id": "a5c51d94-0433-4b70-a9f8-280cad8077a7",
   "metadata": {},
   "outputs": [],
   "source": []
  }
 ],
 "metadata": {
  "kernelspec": {
   "display_name": "Python 3 (ipykernel)",
   "language": "python",
   "name": "python3"
  },
  "language_info": {
   "codemirror_mode": {
    "name": "ipython",
    "version": 3
   },
   "file_extension": ".py",
   "mimetype": "text/x-python",
   "name": "python",
   "nbconvert_exporter": "python",
   "pygments_lexer": "ipython3",
   "version": "3.11.7"
  }
 },
 "nbformat": 4,
 "nbformat_minor": 5
}
